{
 "cells": [
  {
   "cell_type": "markdown",
   "metadata": {},
   "source": [
    "导入数据"
   ]
  },
  {
   "cell_type": "code",
   "execution_count": 1,
   "metadata": {
    "collapsed": true
   },
   "outputs": [],
   "source": [
    "import numpy as np\n",
    "import pandas as pd\n",
    "train=pd.read_csv('./input/train.tsv', sep='\\t')\n",
    "test=pd.read_csv('./input/test.tsv', sep='\\t')"
   ]
  },
  {
   "cell_type": "markdown",
   "metadata": {},
   "source": [
    "预处理和分词"
   ]
  },
  {
   "cell_type": "code",
   "execution_count": 3,
   "metadata": {
    "collapsed": true
   },
   "outputs": [],
   "source": [
    "from nltk.stem import WordNetLemmatizer\n",
    "import re\n",
    "lemmatizer = WordNetLemmatizer() \n",
    "def clean_data(text):\n",
    "    text = re.sub(\"[\\s+\\.\\!\\/_,$%^*(+\\\"\\']+|[+——！，。？、~@#￥%……&*（）]+\", \" \",text)\n",
    "    text = re.sub(\"-\",\" \",text)\n",
    "    tokens = text.lower().split()\n",
    "    return tokens\n",
    "train_data = train['Phrase'].apply(clean_data)\n",
    "test_data = test['Phrase'].apply(clean_data)"
   ]
  },
  {
   "cell_type": "markdown",
   "metadata": {},
   "source": [
    "构建词表"
   ]
  },
  {
   "cell_type": "code",
   "execution_count": 4,
   "metadata": {},
   "outputs": [],
   "source": [
    "vocab=[]\n",
    "vocab.append('')\n",
    "for text in train_data:\n",
    "    for word in text:\n",
    "        vocab.append(word)\n",
    "for text in test_data:\n",
    "    for word in text:\n",
    "        vocab.append(word)\n",
    "vocab=set(vocab)\n",
    "word_to_idx = {word: i+1 for i, word in enumerate(vocab)}\n",
    "word_to_idx['<unk>'] = 0\n",
    "idx_to_word = {i+1: word for i, word in enumerate(vocab)}\n",
    "idx_to_word[0] = '<unk>'"
   ]
  },
  {
   "cell_type": "code",
   "execution_count": 5,
   "metadata": {},
   "outputs": [
    {
     "data": {
      "text/plain": [
       "17820"
      ]
     },
     "execution_count": 5,
     "metadata": {},
     "output_type": "execute_result"
    }
   ],
   "source": [
    "len(vocab)"
   ]
  },
  {
   "cell_type": "markdown",
   "metadata": {},
   "source": [
    "文本序列化"
   ]
  },
  {
   "cell_type": "code",
   "execution_count": 6,
   "metadata": {
    "collapsed": true
   },
   "outputs": [],
   "source": [
    "max_len = 50\n",
    "X_train = np.zeros((len(train_data),max_len)).astype(int)\n",
    "X_test = np.zeros((len(test_data),max_len)).astype(int)\n",
    "for i in range(0,len(train_data)):\n",
    "    if len(train_data[i])<max_len:\n",
    "        for j in range(0,len(train_data[i])):\n",
    "            X_train[i][j]=word_to_idx[train_data[i][j]]\n",
    "        for j in range(len(train_data[i]),max_len):\n",
    "            X_train[i][j] = word_to_idx['<unk>']\n",
    "    else:\n",
    "        for j in range(0,max_len):\n",
    "            X_train[i][j]=word_to_idx[train_data[i][j]]\n",
    "            \n",
    "for i in range(0,len(test_data)):\n",
    "    if len(test_data[i])<max_len:\n",
    "        for j in range(0,len(test_data[i])):\n",
    "            X_test[i][j]=word_to_idx[test_data[i][j]]\n",
    "        for j in range(len(test_data[i]),max_len):\n",
    "            X_test[i][j] = word_to_idx['<unk>']\n",
    "    else:\n",
    "        for j in range(0,max_len):\n",
    "            X_test[i][j]=word_to_idx[test_data[i][j]]"
   ]
  },
  {
   "cell_type": "markdown",
   "metadata": {},
   "source": [
    "划分训练集，验证集，划分batch，生成训练数据"
   ]
  },
  {
   "cell_type": "code",
   "execution_count": 7,
   "metadata": {
    "collapsed": true
   },
   "outputs": [],
   "source": [
    "import torch\n",
    "from torch.utils.data import Dataset,DataLoader,TensorDataset\n",
    "y_train = np.array(train['Sentiment'])\n",
    "train_set = TensorDataset(torch.from_numpy(X_train).long(),torch.from_numpy(y_train).long())\n",
    "train_set, val_set = torch.utils.data.random_split(train_set, [130000, 26060])\n",
    "train_loader = DataLoader(train_set, batch_size=256, shuffle=True)\n",
    "val_loader = DataLoader(val_set, batch_size=256, shuffle=True)\n",
    "test_loader = DataLoader(torch.from_numpy(X_train).long())"
   ]
  },
  {
   "cell_type": "markdown",
   "metadata": {},
   "source": [
    "加载词向量"
   ]
  },
  {
   "cell_type": "code",
   "execution_count": 8,
   "metadata": {
    "collapsed": true
   },
   "outputs": [],
   "source": [
    "import gensim\n",
    "from gensim.test.utils import datapath, get_tmpfile\n",
    "from gensim.models import KeyedVectors\n",
    "# 已有的glove词向量\n",
    "glove_file = datapath('E:/Jupyter/FDUNLP_task/input/glove.twitter.27B.50d.txt')\n",
    "# 指定转化为word2vec格式后文件的位置\n",
    "tmp_file = get_tmpfile(\"E:/Jupyter/FDUNLP_task/input/test_word2vec.txt\")\n",
    "from gensim.scripts.glove2word2vec import glove2word2vec\n",
    "glove2word2vec(glove_file, tmp_file)\n",
    "wvmodel = gensim.models.KeyedVectors.load_word2vec_format('./input/test_word2vec.txt', binary=False, encoding='utf-8')\n",
    "vocab_size = len(vocab) + 1\n",
    "embed_size = 50\n",
    "weight = np.zeros((vocab_size, embed_size))\n",
    "for word in vocab:\n",
    "    if word in wvmodel.vocab:\n",
    "        weight[word_to_idx[word],:] = wvmodel[word]\n",
    "weight = torch.from_numpy(weight)"
   ]
  },
  {
   "cell_type": "markdown",
   "metadata": {},
   "source": [
    "### CNN"
   ]
  },
  {
   "cell_type": "code",
   "execution_count": 11,
   "metadata": {},
   "outputs": [],
   "source": [
    "import torch\n",
    "import torch.nn as nn\n",
    "import torch.nn.functional as F\n",
    "\n",
    "class TextCNN(nn.Module):\n",
    "    def __init__(self, vocab_size,embedding_dim, kernel_sizes, num_filters, num_classes, embedding_matrix=None,freeze=False):\n",
    "        super(TextCNN, self).__init__()\n",
    "        #嵌入层\n",
    "        self.embedding = nn.Embedding(vocab_size, embedding_dim, padding_idx=1)\n",
    "        if embedding_matrix is not None:\n",
    "            #加载词向量\n",
    "            self.embedding.weight.data.copy_(embedding_matrix)\n",
    "            if freeze is True:\n",
    "                self.embedding.weight.data.requires_grad = False\n",
    "        self.conv = nn.ModuleList([nn.Conv1d(in_channels=embedding_dim,\n",
    "                                 out_channels=num_filters,\n",
    "                                 kernel_size=k, stride=1) for k in kernel_sizes])\n",
    "        self.dropout = nn.Dropout(0.5)\n",
    "        self.fc = nn.Linear(len(kernel_sizes) * num_filters, num_classes)\n",
    "\n",
    "    def forward(self, x):\n",
    "        batch_size, sequence_length = x.shape\n",
    "        x = self.embedding(x).transpose(1, 2)\n",
    "        x = [F.relu(conv(x)) for conv in self.conv]\n",
    "        x = [F.max_pool1d(c, c.size(-1)).squeeze(dim=-1) for c in x]\n",
    "        x = torch.cat(x, dim=1)\n",
    "        x = self.fc(self.dropout(x))\n",
    "        return torch.sigmoid(x).squeeze()"
   ]
  },
  {
   "cell_type": "code",
   "execution_count": 12,
   "metadata": {
    "collapsed": true
   },
   "outputs": [],
   "source": [
    "vocab_size = 17821\n",
    "embedding_dim = 50\n",
    "kernel_sizes = [3,4,5]"
   ]
  },
  {
   "cell_type": "code",
   "execution_count": 13,
   "metadata": {},
   "outputs": [
    {
     "name": "stdout",
     "output_type": "stream",
     "text": [
      "epoch: 0, Train Loss: 1.350439, Train Acc: 0.508516, Eval Loss: 1.329323, Eval Acc: 0.515714\n",
      "epoch: 1, Train Loss: 1.315706, Train Acc: 0.510997, Eval Loss: 1.297687, Eval Acc: 0.517271\n",
      "epoch: 2, Train Loss: 1.286197, Train Acc: 0.517120, Eval Loss: 1.278250, Eval Acc: 0.525848\n",
      "epoch: 3, Train Loss: 1.266951, Train Acc: 0.525455, Eval Loss: 1.267476, Eval Acc: 0.526043\n",
      "epoch: 4, Train Loss: 1.254020, Train Acc: 0.537227, Eval Loss: 1.259673, Eval Acc: 0.541104\n",
      "epoch: 5, Train Loss: 1.244777, Train Acc: 0.545152, Eval Loss: 1.255942, Eval Acc: 0.538967\n",
      "epoch: 6, Train Loss: 1.238079, Train Acc: 0.552082, Eval Loss: 1.252488, Eval Acc: 0.549548\n",
      "epoch: 7, Train Loss: 1.232680, Train Acc: 0.557013, Eval Loss: 1.249647, Eval Acc: 0.554191\n",
      "epoch: 8, Train Loss: 1.228560, Train Acc: 0.562256, Eval Loss: 1.247363, Eval Acc: 0.563787\n",
      "epoch: 9, Train Loss: 1.224814, Train Acc: 0.569015, Eval Loss: 1.246483, Eval Acc: 0.562691\n",
      "epoch: 10, Train Loss: 1.221897, Train Acc: 0.570675, Eval Loss: 1.245934, Eval Acc: 0.567729\n",
      "epoch: 11, Train Loss: 1.219338, Train Acc: 0.572755, Eval Loss: 1.244892, Eval Acc: 0.571284\n",
      "epoch: 12, Train Loss: 1.217031, Train Acc: 0.576045, Eval Loss: 1.244771, Eval Acc: 0.568840\n",
      "epoch: 13, Train Loss: 1.215473, Train Acc: 0.578236, Eval Loss: 1.244267, Eval Acc: 0.572680\n",
      "epoch: 14, Train Loss: 1.213696, Train Acc: 0.580759, Eval Loss: 1.243504, Eval Acc: 0.575645\n",
      "epoch: 15, Train Loss: 1.212572, Train Acc: 0.582729, Eval Loss: 1.243282, Eval Acc: 0.575207\n",
      "epoch: 16, Train Loss: 1.211149, Train Acc: 0.583603, Eval Loss: 1.242759, Eval Acc: 0.575266\n",
      "epoch: 17, Train Loss: 1.209750, Train Acc: 0.585445, Eval Loss: 1.242909, Eval Acc: 0.576779\n",
      "epoch: 18, Train Loss: 1.208804, Train Acc: 0.586201, Eval Loss: 1.243027, Eval Acc: 0.573600\n",
      "epoch: 19, Train Loss: 1.207858, Train Acc: 0.587348, Eval Loss: 1.242243, Eval Acc: 0.575407\n",
      "best validation result is: 0.576779\n"
     ]
    },
    {
     "data": {
      "image/png": "[encoded data removed]",
      "text/plain": [
       "<matplotlib.figure.Figure at 0x209e5951780>"
      ]
     },
     "metadata": {},
     "output_type": "display_data"
    }
   ],
   "source": [
    "from trainer import run\n",
    "import matplotlib.pyplot as plt\n",
    "%matplotlib inline\n",
    "model1 = TextCNN(vocab_size, embedding_dim,kernel_sizes,100,5)\n",
    "train_losses, val_losses = run(model1,train_loader,val_loader,20,1e-3,'./cnn/cnn_bst.pth')\n",
    "plt.title('losses')\n",
    "plt.plot(np.arange(len(train_losses)), train_losses,label='train_losses')\n",
    "plt.plot(np.arange(len(val_losses)), val_losses,label='val_losses')\n",
    "plt.legend()\n",
    "plt.show()"
   ]
  },
  {
   "cell_type": "code",
   "execution_count": 14,
   "metadata": {},
   "outputs": [
    {
     "data": {
      "text/plain": [
       "IncompatibleKeys(missing_keys=[], unexpected_keys=[])"
      ]
     },
     "execution_count": 14,
     "metadata": {},
     "output_type": "execute_result"
    }
   ],
   "source": [
    "model1.load_state_dict(torch.load('./cnn/cnn_bst.pth'))"
   ]
  },
  {
   "cell_type": "code",
   "execution_count": 15,
   "metadata": {
    "collapsed": true
   },
   "outputs": [],
   "source": [
    "from trainer import predict\n",
    "test_predictions = predict(model1,torch.from_numpy(X_test).long())"
   ]
  },
  {
   "cell_type": "code",
   "execution_count": 16,
   "metadata": {
    "collapsed": true
   },
   "outputs": [],
   "source": [
    "output = pd.DataFrame({\n",
    "    'PhraseId': test['PhraseId'],\n",
    "    'Sentiment': test_predictions\n",
    "})\n",
    "\n",
    "output.to_csv('cnn_submission.csv', index=False)"
   ]
  },
  {
   "cell_type": "markdown",
   "metadata": {},
   "source": [
    "得分为0.55952"
   ]
  },
  {
   "cell_type": "markdown",
   "metadata": {},
   "source": [
    "### CNN(pretrained)"
   ]
  },
  {
   "cell_type": "markdown",
   "metadata": {},
   "source": [
    "#### 冻结嵌入层参数"
   ]
  },
  {
   "cell_type": "code",
   "execution_count": 17,
   "metadata": {
    "collapsed": true
   },
   "outputs": [],
   "source": [
    "embedding_dim = 50\n",
    "kernel_sizes = [3,4,5]"
   ]
  },
  {
   "cell_type": "code",
   "execution_count": 18,
   "metadata": {},
   "outputs": [
    {
     "name": "stdout",
     "output_type": "stream",
     "text": [
      "epoch: 0, Train Loss: 1.309964, Train Acc: 0.507686, Eval Loss: 1.260547, Eval Acc: 0.517762\n",
      "epoch: 1, Train Loss: 1.253859, Train Acc: 0.520252, Eval Loss: 1.245695, Eval Acc: 0.531501\n",
      "epoch: 2, Train Loss: 1.236804, Train Acc: 0.535909, Eval Loss: 1.239702, Eval Acc: 0.544013\n",
      "epoch: 3, Train Loss: 1.227233, Train Acc: 0.549951, Eval Loss: 1.236485, Eval Acc: 0.554940\n",
      "epoch: 4, Train Loss: 1.221198, Train Acc: 0.559657, Eval Loss: 1.235064, Eval Acc: 0.562580\n",
      "epoch: 5, Train Loss: 1.216327, Train Acc: 0.568129, Eval Loss: 1.234772, Eval Acc: 0.571090\n",
      "epoch: 6, Train Loss: 1.212789, Train Acc: 0.575157, Eval Loss: 1.233761, Eval Acc: 0.574211\n",
      "epoch: 7, Train Loss: 1.210277, Train Acc: 0.578614, Eval Loss: 1.233689, Eval Acc: 0.580198\n",
      "epoch: 8, Train Loss: 1.207688, Train Acc: 0.583409, Eval Loss: 1.233078, Eval Acc: 0.576808\n",
      "epoch: 9, Train Loss: 1.205684, Train Acc: 0.584306, Eval Loss: 1.233121, Eval Acc: 0.583376\n",
      "epoch: 10, Train Loss: 1.203981, Train Acc: 0.588028, Eval Loss: 1.233117, Eval Acc: 0.579814\n",
      "epoch: 11, Train Loss: 1.202744, Train Acc: 0.590223, Eval Loss: 1.233607, Eval Acc: 0.587590\n",
      "epoch: 12, Train Loss: 1.201255, Train Acc: 0.593720, Eval Loss: 1.233437, Eval Acc: 0.582676\n",
      "epoch: 13, Train Loss: 1.200361, Train Acc: 0.594508, Eval Loss: 1.233172, Eval Acc: 0.587177\n",
      "epoch: 14, Train Loss: 1.199147, Train Acc: 0.595221, Eval Loss: 1.233709, Eval Acc: 0.583067\n",
      "epoch: 15, Train Loss: 1.198161, Train Acc: 0.598866, Eval Loss: 1.233336, Eval Acc: 0.586239\n",
      "epoch: 16, Train Loss: 1.197482, Train Acc: 0.603093, Eval Loss: 1.233528, Eval Acc: 0.593064\n",
      "epoch: 17, Train Loss: 1.190529, Train Acc: 0.666568, Eval Loss: 1.224407, Eval Acc: 0.634061\n",
      "epoch: 18, Train Loss: 1.178017, Train Acc: 0.685702, Eval Loss: 1.218792, Eval Acc: 0.638198\n",
      "epoch: 19, Train Loss: 1.170865, Train Acc: 0.689940, Eval Loss: 1.218319, Eval Acc: 0.639711\n",
      "best validation result is: 0.639711\n"
     ]
    },
    {
     "data": {
      "image/png": "[encoded data removed]",
      "text/plain": [
       "<matplotlib.figure.Figure at 0x209a616ba58>"
      ]
     },
     "metadata": {},
     "output_type": "display_data"
    }
   ],
   "source": [
    "from trainer import run\n",
    "import matplotlib.pyplot as plt\n",
    "%matplotlib inline\n",
    "model2 = TextCNN(vocab_size, embedding_dim,kernel_sizes,100,5, weight,freeze=True)\n",
    "train_losses, val_losses = run(model2,train_loader,val_loader,20,1e-3,'./cnn/cnn_pretrained_freeze.pth')\n",
    "plt.title('losses')\n",
    "plt.plot(np.arange(len(train_losses)), train_losses,label='train_losses')\n",
    "plt.plot(np.arange(len(val_losses)), val_losses,label='val_losses')\n",
    "plt.legend()\n",
    "plt.show()"
   ]
  },
  {
   "cell_type": "code",
   "execution_count": 21,
   "metadata": {},
   "outputs": [
    {
     "data": {
      "text/plain": [
       "IncompatibleKeys(missing_keys=[], unexpected_keys=[])"
      ]
     },
     "execution_count": 21,
     "metadata": {},
     "output_type": "execute_result"
    }
   ],
   "source": [
    "model2.load_state_dict(torch.load('./cnn/cnn_pretrained_freeze.pth'))"
   ]
  },
  {
   "cell_type": "code",
   "execution_count": 22,
   "metadata": {
    "collapsed": true
   },
   "outputs": [],
   "source": [
    "from trainer import predict\n",
    "test_predictions = predict(model2,torch.from_numpy(X_test).long())"
   ]
  },
  {
   "cell_type": "code",
   "execution_count": 24,
   "metadata": {
    "collapsed": true
   },
   "outputs": [],
   "source": [
    "output = pd.DataFrame({\n",
    "    'PhraseId': test['PhraseId'],\n",
    "    'Sentiment': test_predictions\n",
    "})\n",
    "\n",
    "output.to_csv('cnn_freeze_submission.csv', index=False)"
   ]
  },
  {
   "cell_type": "code",
   "execution_count": 15,
   "metadata": {
    "collapsed": true
   },
   "outputs": [],
   "source": [
    "embedding_dim = 50\n",
    "kernel_sizes = [3,4,5]"
   ]
  },
  {
   "cell_type": "markdown",
   "metadata": {},
   "source": [
    "得分：0.61757"
   ]
  },
  {
   "cell_type": "markdown",
   "metadata": {},
   "source": [
    "#### 不冻结嵌入层参数"
   ]
  },
  {
   "cell_type": "code",
   "execution_count": 20,
   "metadata": {},
   "outputs": [
    {
     "name": "stdout",
     "output_type": "stream",
     "text": [
      "epoch: 0, Train Loss: 1.310255, Train Acc: 0.506540, Eval Loss: 1.259689, Eval Acc: 0.516958\n",
      "epoch: 1, Train Loss: 1.253785, Train Acc: 0.520141, Eval Loss: 1.246058, Eval Acc: 0.531710\n",
      "epoch: 2, Train Loss: 1.237280, Train Acc: 0.538763, Eval Loss: 1.240421, Eval Acc: 0.548848\n",
      "epoch: 3, Train Loss: 1.227500, Train Acc: 0.552885, Eval Loss: 1.238292, Eval Acc: 0.561365\n",
      "epoch: 4, Train Loss: 1.220941, Train Acc: 0.563071, Eval Loss: 1.235441, Eval Acc: 0.569031\n",
      "epoch: 5, Train Loss: 1.216404, Train Acc: 0.570036, Eval Loss: 1.234289, Eval Acc: 0.568850\n",
      "epoch: 6, Train Loss: 1.212828, Train Acc: 0.576579, Eval Loss: 1.234016, Eval Acc: 0.581534\n",
      "epoch: 7, Train Loss: 1.209977, Train Acc: 0.581967, Eval Loss: 1.233380, Eval Acc: 0.575466\n",
      "epoch: 8, Train Loss: 1.207491, Train Acc: 0.586037, Eval Loss: 1.233144, Eval Acc: 0.582696\n",
      "epoch: 9, Train Loss: 1.205842, Train Acc: 0.589513, Eval Loss: 1.232429, Eval Acc: 0.584564\n",
      "epoch: 10, Train Loss: 1.203899, Train Acc: 0.591016, Eval Loss: 1.231585, Eval Acc: 0.581118\n",
      "epoch: 11, Train Loss: 1.202417, Train Acc: 0.593707, Eval Loss: 1.232175, Eval Acc: 0.586591\n",
      "epoch: 12, Train Loss: 1.200994, Train Acc: 0.595253, Eval Loss: 1.232325, Eval Acc: 0.585780\n",
      "epoch: 13, Train Loss: 1.200330, Train Acc: 0.596823, Eval Loss: 1.232606, Eval Acc: 0.584878\n",
      "epoch: 14, Train Loss: 1.198998, Train Acc: 0.597136, Eval Loss: 1.232213, Eval Acc: 0.588039\n",
      "epoch: 15, Train Loss: 1.198222, Train Acc: 0.601612, Eval Loss: 1.232462, Eval Acc: 0.589857\n",
      "epoch: 16, Train Loss: 1.194376, Train Acc: 0.629506, Eval Loss: 1.224331, Eval Acc: 0.634463\n",
      "epoch: 17, Train Loss: 1.179376, Train Acc: 0.686053, Eval Loss: 1.219408, Eval Acc: 0.638946\n",
      "epoch: 18, Train Loss: 1.172144, Train Acc: 0.689054, Eval Loss: 1.218975, Eval Acc: 0.637662\n",
      "epoch: 19, Train Loss: 1.167853, Train Acc: 0.691594, Eval Loss: 1.217017, Eval Acc: 0.636858\n",
      "best validation result is: 0.638946\n"
     ]
    },
    {
     "data": {
      "image/png": "[encoded data removed]",
      "text/plain": [
       "<matplotlib.figure.Figure at 0x209e5951160>"
      ]
     },
     "metadata": {},
     "output_type": "display_data"
    }
   ],
   "source": [
    "from trainer import run\n",
    "import matplotlib.pyplot as plt\n",
    "%matplotlib inline\n",
    "model3 = TextCNN(vocab_size, embedding_dim,kernel_sizes,100,5, weight)\n",
    "train_losses, val_losses = run(model3,train_loader,val_loader,20,1e-3,'./cnn/cnn_pretrained.pth')\n",
    "plt.title('losses')\n",
    "plt.plot(np.arange(len(train_losses)), train_losses,label='train_losses')\n",
    "plt.plot(np.arange(len(val_losses)), val_losses,label='val_losses')\n",
    "plt.legend()\n",
    "plt.show()"
   ]
  },
  {
   "cell_type": "code",
   "execution_count": 40,
   "metadata": {},
   "outputs": [
    {
     "data": {
      "text/plain": [
       "IncompatibleKeys(missing_keys=[], unexpected_keys=[])"
      ]
     },
     "execution_count": 40,
     "metadata": {},
     "output_type": "execute_result"
    }
   ],
   "source": [
    "model3.load_state_dict(torch.load('./cnn/cnn_pretrained.pth'))"
   ]
  },
  {
   "cell_type": "code",
   "execution_count": 41,
   "metadata": {
    "collapsed": true
   },
   "outputs": [],
   "source": [
    "from trainer import predict\n",
    "test_predictions = predict(model3,torch.from_numpy(X_test).long())"
   ]
  },
  {
   "cell_type": "code",
   "execution_count": 42,
   "metadata": {
    "collapsed": true
   },
   "outputs": [],
   "source": [
    "output = pd.DataFrame({\n",
    "    'PhraseId': test['PhraseId'],\n",
    "    'Sentiment': test_predictions\n",
    "})\n",
    "\n",
    "output.to_csv('cnn_pretrained_submission.csv', index=False)"
   ]
  },
  {
   "cell_type": "markdown",
   "metadata": {},
   "source": [
    "得分：0.61764"
   ]
  },
  {
   "cell_type": "markdown",
   "metadata": {
    "collapsed": true
   },
   "source": [
    "### RNN"
   ]
  },
  {
   "cell_type": "code",
   "execution_count": 29,
   "metadata": {
    "collapsed": true
   },
   "outputs": [],
   "source": [
    "import torch\n",
    "import torch.nn as nn\n",
    "import torch.nn.functional as F\n",
    "\n",
    "class RNN(nn.Module):\n",
    "    def __init__(self, vocab_size,embedding_dim, hidden_state, num_classes, embedding_matrix=None,freeze=False):\n",
    "        super(RNN, self).__init__()\n",
    "        #嵌入层\n",
    "        self.embedding = nn.Embedding(vocab_size, embedding_dim, padding_idx=1)\n",
    "        if embedding_matrix is not None:\n",
    "            #加载词向量\n",
    "            self.embedding.weight.data.copy_(embedding_matrix)\n",
    "            if freeze is True: \n",
    "                self.embedding.weight.data.requires_grad = False\n",
    "        self.rnn = nn.GRU(embedding_dim,hidden_state,2,batch_first = True)\n",
    "        self.fc = nn.Linear(hidden_state, num_classes)\n",
    "\n",
    "    def forward(self, x):\n",
    "        embed = self.embedding(x) \n",
    "        out,_= self.rnn(embed)\n",
    "        out = self.fc(out[:,-1,:])\n",
    "        return out"
   ]
  },
  {
   "cell_type": "code",
   "execution_count": 23,
   "metadata": {
    "collapsed": true
   },
   "outputs": [],
   "source": [
    "vocab_size = 17821\n",
    "embedding_dim = 50\n",
    "model4 = RNN(vocab_size, embedding_dim,50,5)"
   ]
  },
  {
   "cell_type": "code",
   "execution_count": 24,
   "metadata": {},
   "outputs": [
    {
     "name": "stdout",
     "output_type": "stream",
     "text": [
      "epoch: 0, Train Loss: 1.217224, Train Acc: 0.516395, Eval Loss: 1.160766, Eval Acc: 0.533395\n",
      "epoch: 1, Train Loss: 1.054992, Train Acc: 0.578065, Eval Loss: 0.983011, Eval Acc: 0.607905\n",
      "epoch: 2, Train Loss: 0.906758, Train Acc: 0.635863, Eval Loss: 0.909062, Eval Acc: 0.633622\n",
      "epoch: 3, Train Loss: 0.827969, Train Acc: 0.665935, Eval Loss: 0.871132, Eval Acc: 0.645944\n",
      "epoch: 4, Train Loss: 0.777222, Train Acc: 0.684885, Eval Loss: 0.853992, Eval Acc: 0.657397\n",
      "epoch: 5, Train Loss: 0.739848, Train Acc: 0.699872, Eval Loss: 0.839896, Eval Acc: 0.658783\n",
      "epoch: 6, Train Loss: 0.707699, Train Acc: 0.712048, Eval Loss: 0.835413, Eval Acc: 0.660048\n",
      "epoch: 7, Train Loss: 0.682666, Train Acc: 0.723054, Eval Loss: 0.826821, Eval Acc: 0.668223\n",
      "epoch: 8, Train Loss: 0.660276, Train Acc: 0.731682, Eval Loss: 0.834611, Eval Acc: 0.667984\n",
      "epoch: 9, Train Loss: 0.641330, Train Acc: 0.738949, Eval Loss: 0.835254, Eval Acc: 0.667774\n",
      "epoch: 10, Train Loss: 0.624196, Train Acc: 0.747833, Eval Loss: 0.851352, Eval Acc: 0.661952\n",
      "epoch: 11, Train Loss: 0.607770, Train Acc: 0.753457, Eval Loss: 0.841290, Eval Acc: 0.665620\n",
      "epoch: 12, Train Loss: 0.592543, Train Acc: 0.760485, Eval Loss: 0.855132, Eval Acc: 0.659993\n",
      "epoch: 13, Train Loss: 0.577937, Train Acc: 0.767381, Eval Loss: 0.861488, Eval Acc: 0.662307\n",
      "epoch: 14, Train Loss: 0.564787, Train Acc: 0.771933, Eval Loss: 0.868192, Eval Acc: 0.664997\n",
      "epoch: 15, Train Loss: 0.551157, Train Acc: 0.778138, Eval Loss: 0.879040, Eval Acc: 0.665773\n",
      "epoch: 16, Train Loss: 0.536899, Train Acc: 0.785013, Eval Loss: 0.894820, Eval Acc: 0.656868\n",
      "epoch: 17, Train Loss: 0.524920, Train Acc: 0.790432, Eval Loss: 0.916661, Eval Acc: 0.656103\n",
      "epoch: 18, Train Loss: 0.512617, Train Acc: 0.795449, Eval Loss: 0.924116, Eval Acc: 0.656409\n",
      "epoch: 19, Train Loss: 0.500092, Train Acc: 0.800641, Eval Loss: 0.912563, Eval Acc: 0.660718\n",
      "best validation result is: 0.668223\n"
     ]
    },
    {
     "data": {
      "image/png": "[encoded data removed]",
      "text/plain": [
       "<matplotlib.figure.Figure at 0x2ec8401f898>"
      ]
     },
     "metadata": {},
     "output_type": "display_data"
    }
   ],
   "source": [
    "from trainer import run\n",
    "import matplotlib.pyplot as plt\n",
    "%matplotlib inline\n",
    "train_losses, val_losses = run(model4,train_loader,val_loader,20,1e-3,'./rnn/rnn_bst.pth')\n",
    "plt.title('losses')\n",
    "plt.plot(np.arange(len(train_losses)), train_losses,label='train_losses')\n",
    "plt.plot(np.arange(len(val_losses)), val_losses,label='val_losses')\n",
    "plt.legend()\n",
    "plt.show()"
   ]
  },
  {
   "cell_type": "code",
   "execution_count": 25,
   "metadata": {
    "collapsed": true
   },
   "outputs": [],
   "source": [
    "model4.load_state_dict(torch.load('./rnn/rnn_bst.pth'))"
   ]
  },
  {
   "cell_type": "code",
   "execution_count": 26,
   "metadata": {
    "collapsed": true
   },
   "outputs": [],
   "source": [
    "from trainer import predict\n",
    "test_predictions = predict(model3,torch.from_numpy(X_test).long())"
   ]
  },
  {
   "cell_type": "code",
   "execution_count": 27,
   "metadata": {
    "collapsed": true
   },
   "outputs": [],
   "source": [
    "output = pd.DataFrame({\n",
    "    'PhraseId': test['PhraseId'],\n",
    "    'Sentiment': test_predictions\n",
    "})\n",
    "\n",
    "output.to_csv('rnn_submission.csv', index=False)"
   ]
  },
  {
   "cell_type": "markdown",
   "metadata": {},
   "source": [
    "测试集得分为0.61087"
   ]
  },
  {
   "cell_type": "markdown",
   "metadata": {},
   "source": [
    "### RNN(pretrained)"
   ]
  },
  {
   "cell_type": "code",
   "execution_count": 31,
   "metadata": {},
   "outputs": [],
   "source": [
    "vocab_size = 17821\n",
    "embedding_dim = 50\n",
    "model5 = RNN(vocab_size, embedding_dim,50,5,weight,freeze=True)"
   ]
  },
  {
   "cell_type": "code",
   "execution_count": 32,
   "metadata": {},
   "outputs": [
    {
     "name": "stdout",
     "output_type": "stream",
     "text": [
      "epoch: 0, Train Loss: 1.134233, Train Acc: 0.547464, Eval Loss: 0.931062, Eval Acc: 0.620694\n",
      "epoch: 1, Train Loss: 0.859171, Train Acc: 0.649028, Eval Loss: 0.833508, Eval Acc: 0.657165\n",
      "epoch: 2, Train Loss: 0.771418, Train Acc: 0.682722, Eval Loss: 0.812877, Eval Acc: 0.664653\n",
      "epoch: 3, Train Loss: 0.723156, Train Acc: 0.700543, Eval Loss: 0.804293, Eval Acc: 0.666050\n",
      "epoch: 4, Train Loss: 0.690429, Train Acc: 0.714615, Eval Loss: 0.798527, Eval Acc: 0.669612\n",
      "epoch: 5, Train Loss: 0.664908, Train Acc: 0.724054, Eval Loss: 0.801077, Eval Acc: 0.672754\n",
      "epoch: 6, Train Loss: 0.643309, Train Acc: 0.732218, Eval Loss: 0.811239, Eval Acc: 0.671489\n",
      "epoch: 7, Train Loss: 0.625673, Train Acc: 0.739585, Eval Loss: 0.806382, Eval Acc: 0.671545\n",
      "epoch: 8, Train Loss: 0.609355, Train Acc: 0.746772, Eval Loss: 0.822408, Eval Acc: 0.672112\n",
      "epoch: 9, Train Loss: 0.593421, Train Acc: 0.752477, Eval Loss: 0.836984, Eval Acc: 0.671011\n",
      "epoch: 10, Train Loss: 0.579175, Train Acc: 0.759048, Eval Loss: 0.842432, Eval Acc: 0.668052\n",
      "epoch: 11, Train Loss: 0.565211, Train Acc: 0.763852, Eval Loss: 0.857690, Eval Acc: 0.668418\n",
      "epoch: 12, Train Loss: 0.552254, Train Acc: 0.768613, Eval Loss: 0.873809, Eval Acc: 0.659079\n",
      "epoch: 13, Train Loss: 0.538325, Train Acc: 0.773976, Eval Loss: 0.880161, Eval Acc: 0.662583\n",
      "epoch: 14, Train Loss: 0.526944, Train Acc: 0.778347, Eval Loss: 0.902889, Eval Acc: 0.663425\n",
      "epoch: 15, Train Loss: 0.514795, Train Acc: 0.783101, Eval Loss: 0.916507, Eval Acc: 0.656812\n",
      "epoch: 16, Train Loss: 0.505143, Train Acc: 0.787461, Eval Loss: 0.934438, Eval Acc: 0.664268\n",
      "epoch: 17, Train Loss: 0.493406, Train Acc: 0.792092, Eval Loss: 0.931969, Eval Acc: 0.656104\n",
      "epoch: 18, Train Loss: 0.482538, Train Acc: 0.796540, Eval Loss: 0.963364, Eval Acc: 0.652301\n",
      "epoch: 19, Train Loss: 0.472385, Train Acc: 0.800086, Eval Loss: 0.974311, Eval Acc: 0.656716\n",
      "best validation result is: 0.672754\n"
     ]
    },
    {
     "data": {
      "image/png": "[encoded data removed]",
      "text/plain": [
       "<matplotlib.figure.Figure at 0x209e6c4ee48>"
      ]
     },
     "metadata": {},
     "output_type": "display_data"
    }
   ],
   "source": [
    "from trainer import run\n",
    "import matplotlib.pyplot as plt\n",
    "%matplotlib inline\n",
    "train_losses, val_losses = run(model5,train_loader,val_loader,20,1e-3,'./rnn/rnn_pretrained_freeze.pth')\n",
    "plt.title('losses')\n",
    "plt.plot(np.arange(len(train_losses)), train_losses,label='train_losses')\n",
    "plt.plot(np.arange(len(val_losses)), val_losses,label='val_losses')\n",
    "plt.legend()\n",
    "plt.show()"
   ]
  },
  {
   "cell_type": "code",
   "execution_count": 43,
   "metadata": {},
   "outputs": [
    {
     "data": {
      "text/plain": [
       "IncompatibleKeys(missing_keys=[], unexpected_keys=[])"
      ]
     },
     "execution_count": 43,
     "metadata": {},
     "output_type": "execute_result"
    }
   ],
   "source": [
    "model5.load_state_dict(torch.load('./rnn/rnn_pretrained_freeze.pth'))"
   ]
  },
  {
   "cell_type": "code",
   "execution_count": 44,
   "metadata": {},
   "outputs": [],
   "source": [
    "from trainer import predict\n",
    "test_predictions = predict(model5,torch.from_numpy(X_test).long())"
   ]
  },
  {
   "cell_type": "code",
   "execution_count": 45,
   "metadata": {
    "collapsed": true
   },
   "outputs": [],
   "source": [
    "output = pd.DataFrame({\n",
    "    'PhraseId': test['PhraseId'],\n",
    "    'Sentiment': test_predictions\n",
    "})\n",
    "\n",
    "output.to_csv('rnn_freeze_submission.csv', index=False)"
   ]
  },
  {
   "cell_type": "markdown",
   "metadata": {},
   "source": [
    "得分为：0.64196"
   ]
  },
  {
   "cell_type": "code",
   "execution_count": 33,
   "metadata": {},
   "outputs": [
    {
     "name": "stdout",
     "output_type": "stream",
     "text": [
      "epoch: 0, Train Loss: 1.121513, Train Acc: 0.552782, Eval Loss: 0.912485, Eval Acc: 0.626738\n",
      "epoch: 1, Train Loss: 0.850599, Train Acc: 0.651069, Eval Loss: 0.837459, Eval Acc: 0.655299\n",
      "epoch: 2, Train Loss: 0.768745, Train Acc: 0.682168, Eval Loss: 0.809989, Eval Acc: 0.666710\n",
      "epoch: 3, Train Loss: 0.722694, Train Acc: 0.699429, Eval Loss: 0.796308, Eval Acc: 0.671988\n",
      "epoch: 4, Train Loss: 0.690691, Train Acc: 0.712992, Eval Loss: 0.797698, Eval Acc: 0.672820\n",
      "epoch: 5, Train Loss: 0.667553, Train Acc: 0.721483, Eval Loss: 0.793001, Eval Acc: 0.677569\n",
      "epoch: 6, Train Loss: 0.645984, Train Acc: 0.730479, Eval Loss: 0.800333, Eval Acc: 0.675298\n",
      "epoch: 7, Train Loss: 0.628507, Train Acc: 0.737497, Eval Loss: 0.801060, Eval Acc: 0.676104\n",
      "epoch: 8, Train Loss: 0.612791, Train Acc: 0.743940, Eval Loss: 0.817608, Eval Acc: 0.673941\n",
      "epoch: 9, Train Loss: 0.597852, Train Acc: 0.748547, Eval Loss: 0.827647, Eval Acc: 0.676438\n",
      "epoch: 10, Train Loss: 0.584047, Train Acc: 0.755633, Eval Loss: 0.830808, Eval Acc: 0.678057\n",
      "epoch: 11, Train Loss: 0.571056, Train Acc: 0.761281, Eval Loss: 0.846332, Eval Acc: 0.669344\n",
      "epoch: 12, Train Loss: 0.559944, Train Acc: 0.765724, Eval Loss: 0.856251, Eval Acc: 0.673326\n",
      "epoch: 13, Train Loss: 0.547246, Train Acc: 0.770947, Eval Loss: 0.871552, Eval Acc: 0.670360\n",
      "epoch: 14, Train Loss: 0.535498, Train Acc: 0.775727, Eval Loss: 0.874341, Eval Acc: 0.668952\n",
      "epoch: 15, Train Loss: 0.524087, Train Acc: 0.780649, Eval Loss: 0.887224, Eval Acc: 0.674305\n",
      "epoch: 16, Train Loss: 0.513452, Train Acc: 0.785298, Eval Loss: 0.896475, Eval Acc: 0.662087\n",
      "epoch: 17, Train Loss: 0.503128, Train Acc: 0.789750, Eval Loss: 0.910370, Eval Acc: 0.666567\n",
      "epoch: 18, Train Loss: 0.493232, Train Acc: 0.794248, Eval Loss: 0.925577, Eval Acc: 0.668003\n",
      "epoch: 19, Train Loss: 0.482288, Train Acc: 0.798400, Eval Loss: 0.953037, Eval Acc: 0.662745\n",
      "best validation result is: 0.678057\n"
     ]
    },
    {
     "data": {
      "image/png": "[encoded data removed]",
      "text/plain": [
       "<matplotlib.figure.Figure at 0x2375407b4e0>"
      ]
     },
     "metadata": {},
     "output_type": "display_data"
    }
   ],
   "source": [
    "model6 = RNN(vocab_size, embedding_dim,50,5,weight,freeze=True)\n",
    "from trainer import run\n",
    "import matplotlib.pyplot as plt\n",
    "%matplotlib inline\n",
    "train_losses, val_losses = run(model6,train_loader,val_loader,20,1e-3,'./rnn/rnn_pretrained_freeze.pth')\n",
    "plt.title('losses')\n",
    "plt.plot(np.arange(len(train_losses)), train_losses,label='train_losses')\n",
    "plt.plot(np.arange(len(val_losses)), val_losses,label='val_losses')\n",
    "plt.legend()\n",
    "plt.show()"
   ]
  },
  {
   "cell_type": "code",
   "execution_count": 34,
   "metadata": {
    "collapsed": true
   },
   "outputs": [],
   "source": [
    "model6.load_state_dict(torch.load('./rnn/rnn_pretrained_bst.pth'))"
   ]
  },
  {
   "cell_type": "code",
   "execution_count": 35,
   "metadata": {
    "collapsed": true
   },
   "outputs": [],
   "source": [
    "from trainer import predict\n",
    "test_predictions = predict(model6,torch.from_numpy(X_test).long())"
   ]
  },
  {
   "cell_type": "code",
   "execution_count": 36,
   "metadata": {
    "collapsed": true
   },
   "outputs": [],
   "source": [
    "output = pd.DataFrame({\n",
    "    'PhraseId': test['PhraseId'],\n",
    "    'Sentiment': test_predictions\n",
    "})\n",
    "\n",
    "output.to_csv('rnn_pretrained_submission.csv', index=False)"
   ]
  },
  {
   "cell_type": "markdown",
   "metadata": {},
   "source": [
    "得分为0.64226"
   ]
  },
  {
   "cell_type": "code",
   "execution_count": null,
   "metadata": {
    "collapsed": true
   },
   "outputs": [],
   "source": []
  }
 ],
 "metadata": {
  "kernelspec": {
   "display_name": "Python 3",
   "language": "python",
   "name": "python3"
  },
  "language_info": {
   "codemirror_mode": {
    "name": "ipython",
    "version": 3
   },
   "file_extension": ".py",
   "mimetype": "text/x-python",
   "name": "python",
   "nbconvert_exporter": "python",
   "pygments_lexer": "ipython3",
   "version": "3.6.3"
  }
 },
 "nbformat": 4,
 "nbformat_minor": 2
}

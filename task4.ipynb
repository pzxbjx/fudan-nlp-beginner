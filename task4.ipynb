{
 "cells": [
  {
   "cell_type": "markdown",
   "metadata": {},
   "source": [
    "## 数据处理"
   ]
  },
  {
   "cell_type": "markdown",
   "metadata": {},
   "source": [
    "读取数据"
   ]
  },
  {
   "cell_type": "code",
   "execution_count": 1,
   "metadata": {
    "collapsed": true
   },
   "outputs": [],
   "source": [
    "import torch\n",
    "import numpy as np\n",
    "import random\n",
    "import re\n",
    "def readfile(filename):\n",
    "    f = open(filename)\n",
    "    sentences = []\n",
    "    sentence = []\n",
    "    label = []\n",
    "    labels = []\n",
    "    for line in f:\n",
    "        if len(line) == 0 or line.startswith('-DOCSTART') or line[0] == \"\\n\":\n",
    "            if len(sentence) > 0:\n",
    "                sentences.append(sentence)\n",
    "                labels.append(label)\n",
    "                label = []\n",
    "                sentence = []\n",
    "            continue\n",
    "        line = re.sub('\\n','',line)\n",
    "        splits = line.split(' ')\n",
    "        sentence.append(splits[0].lower())\n",
    "        label.append(splits[-1])\n",
    "\n",
    "    if len(sentence) > 0:\n",
    "        sentences.append(sentence)\n",
    "        labels.append(label)\n",
    "        label = []\n",
    "        sentence = []\n",
    "    return sentences,labels"
   ]
  },
  {
   "cell_type": "code",
   "execution_count": 2,
   "metadata": {
    "collapsed": true
   },
   "outputs": [],
   "source": [
    "train_sentences,train_labels = readfile('./input/CoNLL-2003/train.txt')\n",
    "val_sentences,val_labels = readfile('./input/CoNLL-2003/testa.txt')\n",
    "test_sentences,test_labels = readfile('./input/CoNLL-2003/testb.txt')"
   ]
  },
  {
   "cell_type": "markdown",
   "metadata": {},
   "source": [
    "构建词表"
   ]
  },
  {
   "cell_type": "code",
   "execution_count": 3,
   "metadata": {
    "collapsed": true
   },
   "outputs": [],
   "source": [
    "def get_vocab(data):\n",
    "    vocab_list = []\n",
    "    for text in data:\n",
    "        for word in text:\n",
    "            vocab_list.append(word)\n",
    "    vocab_list = set(vocab_list)\n",
    "    return vocab_list"
   ]
  },
  {
   "cell_type": "code",
   "execution_count": 4,
   "metadata": {
    "collapsed": true
   },
   "outputs": [],
   "source": [
    "vocab = get_vocab(train_sentences+val_sentences+test_sentences)"
   ]
  },
  {
   "cell_type": "code",
   "execution_count": 5,
   "metadata": {},
   "outputs": [
    {
     "data": {
      "text/plain": [
       "26869"
      ]
     },
     "execution_count": 5,
     "metadata": {},
     "output_type": "execute_result"
    }
   ],
   "source": [
    "len(vocab)"
   ]
  },
  {
   "cell_type": "code",
   "execution_count": 6,
   "metadata": {
    "collapsed": true
   },
   "outputs": [],
   "source": [
    "word_to_idx = {word: i+1 for i, word in enumerate(vocab)}\n",
    "word_to_idx['<unk>'] = 0\n",
    "idx_to_word = {i+1: word for i, word in enumerate(vocab)}\n",
    "idx_to_word[0] = '<unk>'"
   ]
  },
  {
   "cell_type": "markdown",
   "metadata": {},
   "source": [
    "文本数据序列化"
   ]
  },
  {
   "cell_type": "code",
   "execution_count": 7,
   "metadata": {
    "collapsed": true
   },
   "outputs": [],
   "source": [
    "def text_to_sequence(data):\n",
    "    text = []\n",
    "    sequence = []\n",
    "    for line in data:\n",
    "        for word in line:\n",
    "            sequence.append(word_to_idx[word])\n",
    "        text.append(sequence)\n",
    "        sequence = []\n",
    "    return text"
   ]
  },
  {
   "cell_type": "code",
   "execution_count": 8,
   "metadata": {
    "collapsed": true
   },
   "outputs": [],
   "source": [
    "train_data = text_to_sequence(train_sentences)\n",
    "val_data = text_to_sequence(val_sentences)\n",
    "test_data = text_to_sequence(test_sentences)"
   ]
  },
  {
   "cell_type": "code",
   "execution_count": 9,
   "metadata": {
    "collapsed": true
   },
   "outputs": [],
   "source": [
    "START_TAG = \"<START>\"\n",
    "STOP_TAG = \"<STOP>\"\n",
    "tag_to_ix = {\"B-PER\": 0, \"B-LOC\": 1, \"B-ORG\": 2, \"B-MISC\" : 3, \"I-PER\": 4, \"I-LOC\": 5, \"I-ORG\": 6, \"I-MISC\": 7, \"O\":8,\n",
    "             START_TAG: 9, STOP_TAG: 10}\n",
    "idx2Label = {tag_to_ix[key]: key for key in tag_to_ix}"
   ]
  },
  {
   "cell_type": "code",
   "execution_count": 10,
   "metadata": {
    "collapsed": true
   },
   "outputs": [],
   "source": [
    "def label_to_sequence(data):\n",
    "    labels = []\n",
    "    sequence = []\n",
    "    for line in data:\n",
    "        for idx in line:\n",
    "            sequence.append(tag_to_ix[idx])\n",
    "        labels.append(sequence)\n",
    "        sequence = []\n",
    "    return labels"
   ]
  },
  {
   "cell_type": "code",
   "execution_count": 11,
   "metadata": {
    "collapsed": true
   },
   "outputs": [],
   "source": [
    "y_train = label_to_sequence(train_labels)\n",
    "y_val = label_to_sequence(val_labels)\n",
    "y_test = label_to_sequence(test_labels)"
   ]
  },
  {
   "cell_type": "markdown",
   "metadata": {},
   "source": [
    "划分数据batch，将长度一致的sentence放在一个batch里"
   ]
  },
  {
   "cell_type": "code",
   "execution_count": 12,
   "metadata": {
    "collapsed": true
   },
   "outputs": [],
   "source": [
    "def createBatches(data,labels):\n",
    "    l = []\n",
    "    for i in data:\n",
    "        l.append(len(i))\n",
    "    l = set(l)\n",
    "    batches = []\n",
    "    target = []\n",
    "    batch_len = []\n",
    "    z = 0\n",
    "    for i in l:\n",
    "        for j,batch in enumerate(data):\n",
    "            if len(batch) == i:\n",
    "                batches.append(batch)\n",
    "                target.append(labels[j])\n",
    "                z += 1\n",
    "        batch_len.append(z)\n",
    "    return batches,target,batch_len"
   ]
  },
  {
   "cell_type": "code",
   "execution_count": 13,
   "metadata": {
    "collapsed": true
   },
   "outputs": [],
   "source": [
    "X_train,y_train,train_batch_len=createBatches(train_data,y_train)\n",
    "X_val,y_val,val_batch_len=createBatches(val_data,y_val)\n",
    "X_test,y_test,test_batch_len=createBatches(test_data,y_test)"
   ]
  },
  {
   "cell_type": "markdown",
   "metadata": {},
   "source": [
    "加载词向量"
   ]
  },
  {
   "cell_type": "code",
   "execution_count": 14,
   "metadata": {
    "collapsed": true
   },
   "outputs": [],
   "source": [
    "import torch\n",
    "import gensim\n",
    "from gensim.test.utils import datapath, get_tmpfile\n",
    "from gensim.models import KeyedVectors\n",
    "# 已有的glove词向量\n",
    "glove_file = datapath('E:/Jupyter/FDUNLP_task/input/glove.twitter.27B.50d.txt')\n",
    "# 指定转化为word2vec格式后文件的位置\n",
    "tmp_file = get_tmpfile(\"E:/Jupyter/FDUNLP_task/input/task4_word2vec.txt\")\n",
    "from gensim.scripts.glove2word2vec import glove2word2vec\n",
    "glove2word2vec(glove_file, tmp_file)\n",
    "wvmodel = gensim.models.KeyedVectors.load_word2vec_format('./input/task4_word2vec.txt', binary=False, encoding='utf-8')\n",
    "vocab_size = len(vocab) + 1\n",
    "embed_size = 50\n",
    "weight = np.zeros((vocab_size, embed_size))\n",
    "for word in vocab:\n",
    "    if word in wvmodel.vocab:\n",
    "        weight[word_to_idx[word],:] = wvmodel[word]\n",
    "weight = torch.from_numpy(weight)"
   ]
  },
  {
   "cell_type": "code",
   "execution_count": 15,
   "metadata": {
    "collapsed": true
   },
   "outputs": [],
   "source": [
    "import torch\n",
    "import torch.autograd as autograd\n",
    "import torch.nn as nn\n",
    "import torch.optim as optim\n",
    "from torchcrf import CRF\n",
    "\n",
    "class LSTM_CRF(nn.Module):\n",
    "\n",
    "    def __init__(self, vocab_size, tag_to_ix, embedding_dim, hidden_dim,embedding_matrix):\n",
    "        super(BiLSTM_CRF, self).__init__()\n",
    "        self.embedding_dim = embedding_dim\n",
    "        self.hidden_dim = hidden_dim\n",
    "        self.vocab_size = vocab_size\n",
    "        self.tag_to_ix = tag_to_ix\n",
    "        self.tagset_size = len(tag_to_ix)\n",
    "\n",
    "        self.word_embeds = nn.Embedding(vocab_size, embedding_dim)\n",
    "        self.word_embeds.weight.data.copy_(embedding_matrix)\n",
    "        self.lstm = nn.LSTM(embedding_dim, hidden_dim,\n",
    "                            num_layers=1,batch_first = True)\n",
    "\n",
    "        # Maps the output of the LSTM into tag space.\n",
    "        self.hidden2tag = nn.Linear(hidden_dim, self.tagset_size)\n",
    "        self.crf = CRF(self.tagset_size,batch_first=True)\n",
    "    \n",
    "    def forward(self, sentence,tags):  # dont confuse this with _forward_alg above.\n",
    "        # Get the emission scores from the BiLSTM\n",
    "        embeds = self.word_embeds(sentence)\n",
    "        lstm_out,_= self.lstm(embeds)\n",
    "        lstm_feats = self.hidden2tag(lstm_out)\n",
    "        loss = self.crf(lstm_feats,tags)\n",
    "        # Find the best path, given the features.\n",
    "        tag_seq = self.crf.decode(lstm_feats)\n",
    "        return -loss,tag_seq"
   ]
  },
  {
   "cell_type": "code",
   "execution_count": 16,
   "metadata": {
    "collapsed": true
   },
   "outputs": [],
   "source": [
    "def compute_precision(predictions, correct):\n",
    "    \n",
    "    label_pred = []\n",
    "    for sentence in predictions:\n",
    "        label_pred.append([idx2Label[element] for element in sentence])\n",
    "\n",
    "    label_correct = []\n",
    "    for sentence in correct:\n",
    "        label_correct.append([idx2Label[element] for element in sentence])\n",
    "        \n",
    "    correctCount = 0\n",
    "    count = 0\n",
    "\n",
    "    for sentenceIdx in range(len(label_pred)):\n",
    "        guessed = label_pred[sentenceIdx]\n",
    "        correct = label_correct[sentenceIdx]\n",
    "        assert (len(guessed) == len(correct))\n",
    "        idx = 0\n",
    "        while idx < len(guessed):\n",
    "            if guessed[idx][0] == 'B':  # a new chunk starts\n",
    "                count += 1\n",
    "\n",
    "                if guessed[idx] == correct[idx]:  # first prediction correct\n",
    "                    idx += 1\n",
    "                    correctlyFound = True\n",
    "\n",
    "                    while idx < len(guessed) and guessed[idx][0] == 'I':  # scan entire chunk\n",
    "                        if guessed[idx] != correct[idx]:\n",
    "                            correctlyFound = False \n",
    "\n",
    "                        idx += 1\n",
    "\n",
    "                    if idx < len(guessed):\n",
    "                        if correct[idx][0] == 'I':  # chunk in correct was longer\n",
    "                            correctlyFound = False\n",
    "\n",
    "                    if correctlyFound:\n",
    "                        correctCount += 1\n",
    "                else:\n",
    "                    idx += 1\n",
    "            else:\n",
    "                idx += 1\n",
    "\n",
    "    precision = 0\n",
    "    if count > 0:\n",
    "        precision = float(correctCount) / count\n",
    "\n",
    "    return precision"
   ]
  },
  {
   "cell_type": "code",
   "execution_count": 17,
   "metadata": {
    "collapsed": true
   },
   "outputs": [],
   "source": [
    "def get_batch(data,label,batch_len,i):\n",
    "    if i == 0:\n",
    "        x = data[0:batch_len[i]]\n",
    "        y = label[0:batch_len[i]]\n",
    "    else :\n",
    "        x = data[batch_len[i-1]:batch_len[i]]\n",
    "        y = label[batch_len[i-1]:batch_len[i]]\n",
    "    return torch.tensor(x,dtype=torch.long),torch.tensor(y,dtype=torch.long)"
   ]
  },
  {
   "cell_type": "code",
   "execution_count": 18,
   "metadata": {},
   "outputs": [
    {
     "name": "stdout",
     "output_type": "stream",
     "text": [
      "epoch: 0, precision: 0.584169, recall: 0.474327, f1: 0.523549\n",
      "epoch: 1, precision: 0.767895, recall: 0.579320, f1: 0.660410\n",
      "epoch: 2, precision: 0.791557, recall: 0.587642, f1: 0.674525\n",
      "epoch: 3, precision: 0.785933, recall: 0.591537, f1: 0.675018\n",
      "epoch: 4, precision: 0.796180, recall: 0.605170, f1: 0.687657\n",
      "epoch: 5, precision: 0.800698, recall: 0.608888, f1: 0.691743\n",
      "epoch: 6, precision: 0.795798, recall: 0.596848, f1: 0.682113\n",
      "epoch: 7, precision: 0.760105, recall: 0.615970, f1: 0.680489\n",
      "epoch: 8, precision: 0.701477, recall: 0.605347, f1: 0.649876\n",
      "epoch: 9, precision: 0.758386, recall: 0.612429, f1: 0.677637\n",
      "epoch: 10, precision: 0.776090, recall: 0.624115, f1: 0.691855\n",
      "epoch: 11, precision: 0.760744, recall: 0.629958, f1: 0.689201\n",
      "epoch: 12, precision: 0.772398, recall: 0.641112, f1: 0.700658\n",
      "epoch: 13, precision: 0.755575, recall: 0.611898, f1: 0.676189\n",
      "epoch: 14, precision: 0.804918, recall: 0.608534, f1: 0.693083\n",
      "epoch: 15, precision: 0.800611, recall: 0.602868, f1: 0.687809\n",
      "epoch: 16, precision: 0.787879, recall: 0.603045, f1: 0.683181\n",
      "epoch: 17, precision: 0.806006, recall: 0.598796, f1: 0.687119\n",
      "epoch: 18, precision: 0.806251, recall: 0.598265, f1: 0.686858\n",
      "epoch: 19, precision: 0.784196, recall: 0.600921, f1: 0.680433\n",
      "epoch: 20, precision: 0.778581, recall: 0.610127, f1: 0.684137\n",
      "epoch: 21, precision: 0.764428, recall: 0.630843, f1: 0.691241\n",
      "epoch: 22, precision: 0.756711, recall: 0.628895, f1: 0.686908\n",
      "epoch: 23, precision: 0.799770, recall: 0.616678, f1: 0.696391\n",
      "epoch: 24, precision: 0.806840, recall: 0.605701, f1: 0.691950\n",
      "epoch: 25, precision: 0.808521, recall: 0.598088, f1: 0.687564\n",
      "epoch: 26, precision: 0.802277, recall: 0.611367, f1: 0.693931\n",
      "epoch: 27, precision: 0.750263, recall: 0.631374, f1: 0.685703\n",
      "epoch: 28, precision: 0.762543, recall: 0.664660, f1: 0.710245\n",
      "epoch: 29, precision: 0.787810, recall: 0.617918, f1: 0.692598\n",
      "[0.762543164736949, 0.6646600566572238, 0.7102450099328352]\n"
     ]
    }
   ],
   "source": [
    "model = LSTM_CRF(vocab_size, tag_to_ix, 50, 50,weight)\n",
    "optimizer = optim.Adam(model.parameters(), lr=0.01, weight_decay=1e-4)\n",
    "best_f1 = -1\n",
    "merics = None\n",
    "for epoch in range(30):  \n",
    "    model.train()\n",
    "    predictions = []\n",
    "    correct = []\n",
    "    for i in range(len(train_batch_len)):\n",
    "        model.zero_grad()\n",
    "        x,y = get_batch(X_train,y_train,train_batch_len,i)\n",
    "        loss,y_pred = model(x,y)\n",
    "\n",
    "        loss.backward()\n",
    "        optimizer.step()\n",
    "    model.eval()\n",
    "    for i in range(len(val_batch_len)):\n",
    "        x,y = get_batch(X_val,y_val,val_batch_len,i)\n",
    "    \n",
    "        _,y_pred = model(x,y)\n",
    "        predictions += y_pred\n",
    "        correct += y.tolist()\n",
    "    precision = compute_precision(predictions,correct)\n",
    "    recall = compute_precision(correct,predictions)\n",
    "    f1 = 2.0 * precision * recall / (precision + recall)\n",
    "    if f1 > best_f1:\n",
    "        best_f1 =f1\n",
    "        merics = [precision,recall, f1]\n",
    "        torch.save(model.state_dict(), './rnn/crf.pth')\n",
    "    print('epoch: {}, precision: {:.6f}, recall: {:.6f}, f1: {:.6f}'.format(epoch,precision,recall, f1))\n",
    "print(merics)\n",
    "    \n",
    "    "
   ]
  },
  {
   "cell_type": "code",
   "execution_count": 19,
   "metadata": {},
   "outputs": [
    {
     "name": "stdout",
     "output_type": "stream",
     "text": [
      "testb:precision: 0.814164, recall: 0.699310, f1: 0.752379\n"
     ]
    }
   ],
   "source": [
    "model.load_state_dict(torch.load('./rnn/crf.pth'))\n",
    "for i in range(len(test_batch_len)):\n",
    "    x,y = get_batch(X_test,y_test,test_batch_len,i)\n",
    "    \n",
    "    _,y_pred = model(x,y)\n",
    "    predictions += y_pred\n",
    "    correct += y.tolist()\n",
    "precision = compute_precision(predictions,correct)\n",
    "recall = compute_precision(correct,predictions)\n",
    "f1 = 2.0 * precision * recall / (precision + recall)\n",
    "print('testb:precision: {:.6f}, recall: {:.6f}, f1: {:.6f}'.format(precision,recall, f1))"
   ]
  },
  {
   "cell_type": "markdown",
   "metadata": {},
   "source": [
    "#### My version(unfinished)"
   ]
  },
  {
   "cell_type": "code",
   "execution_count": 50,
   "metadata": {
    "collapsed": true
   },
   "outputs": [],
   "source": [
    "class LSTM_CRF(nn.Module):\n",
    "\n",
    "    def __init__(self, vocab_size, tag_to_ix, embedding_dim, hidden_dim,embedding_matrix):\n",
    "        super(BiLSTM_CRF, self).__init__()\n",
    "        self.embedding_dim = embedding_dim\n",
    "        self.hidden_dim = hidden_dim\n",
    "        self.vocab_size = vocab_size\n",
    "        self.tag_to_ix = tag_to_ix\n",
    "        self.tagset_size = len(tag_to_ix)\n",
    "\n",
    "        self.word_embeds = nn.Embedding(vocab_size, embedding_dim)\n",
    "        self.word_embeds.weight.data.copy_(embedding_matrix)\n",
    "        self.lstm = nn.LSTM(embedding_dim, hidden_dim,\n",
    "                            num_layers=1,batch_first = True)\n",
    "\n",
    "        # Maps the output of the LSTM into tag space.\n",
    "        self.hidden2tag = nn.Linear(hidden_dim, self.tagset_size)\n",
    "\n",
    "        # Matrix of transition parameters.  Entry i,j is the score of\n",
    "        # transitioning *to* i *from* j.\n",
    "        self.transitions = nn.Parameter(\n",
    "            torch.randn(self.tagset_size, self.tagset_size))\n",
    "\n",
    "        # These two statements enforce the constraint that we never transfer\n",
    "        # to the start tag and we never transfer from the stop tag\n",
    "        self.transitions.data[tag_to_ix[START_TAG], :] = -10000\n",
    "        self.transitions.data[:, tag_to_ix[STOP_TAG]] = -10000\n",
    "\n",
    "\n",
    "    def _forward_alg(self, feats):\n",
    "        # Do the forward algorithm to compute the partition function\n",
    "        batch_size, seq,_ =feats.shape\n",
    "        init_alphas = torch.full((batch_size, self.tagset_size), -10000.)\n",
    "        # START_TAG has all of the score.\n",
    "        init_alphas[:,self.tag_to_ix[START_TAG]] = 0.\n",
    "\n",
    "        # Wrap in a variable so that we will get automatic backprop\n",
    "        forward_var = init_alphas\n",
    "        for i in range(seq):\n",
    "            emit_score = feats[:,i,:].view(batch_size,-1,1)\n",
    "            tag_var = forward_var.view(batch_size,1, -1) + self.transitions + emit_score\n",
    "            max_tag_var, _ = torch.max(tag_var, dim=2)\n",
    "            tag_var = tag_var - max_tag_var.view(batch_size,-1, 1)\n",
    "            forward_var = max_tag_var + torch.log(torch.sum(torch.exp(tag_var), dim=2))\n",
    "        terminal_var = (forward_var + self.transitions[self.tag_to_ix[STOP_TAG]])\n",
    "        alpha = torch.log(torch.sum(torch.exp(terminal_var),dim=1)).sum()\n",
    "\n",
    "        return alpha / batch_size\n",
    "\n",
    "    def _get_lstm_features(self, sentence):\n",
    "        embeds = self.word_embeds(sentence)\n",
    "        lstm_out,_= self.lstm(embeds)\n",
    "        lstm_feats = self.hidden2tag(lstm_out)\n",
    "        return lstm_feats\n",
    "\n",
    "    def _score_sentence(self, feats, tags):\n",
    "        # Gives the score of a provided tag sequence\n",
    "        trans = torch.zeros(1)\n",
    "        emit = feats[torch.tensor(range(batch_size)).view(-1,1),range(seq),y].sum()\n",
    "        trans = trans + self.transitions[y[:,0],self.tag_to_ix[START_TAG]]\n",
    "        for i in range(seq-1):\n",
    "            trans = trans + self.transitions[tags[:,i+1],tags[:,i]]\n",
    "        trans = trans + self.transitions[self.tag_to_ix[STOP_TAG], y[:,-1]]\n",
    "        return (trans.sum()+emit)/batch_size\n",
    "\n",
    "    def _viterbi_decode(self, feats):\n",
    "        backpointers = []\n",
    "\n",
    "        # Initialize the viterbi variables in log space\n",
    "        init_vvars = torch.full((1, self.tagset_size), -10000.)\n",
    "        init_vvars[0][self.tag_to_ix[START_TAG]] = 0\n",
    "\n",
    "        # forward_var at step i holds the viterbi variables for step i-1\n",
    "        forward_var = init_vvars\n",
    "        for feat in feats:\n",
    "            bptrs_t = []  # holds the backpointers for this step\n",
    "            viterbivars_t = []  # holds the viterbi variables for this step\n",
    "\n",
    "            for next_tag in range(self.tagset_size):\n",
    "                # next_tag_var[i] holds the viterbi variable for tag i at the\n",
    "                # previous step, plus the score of transitioning\n",
    "                # from tag i to next_tag.\n",
    "                # We don't include the emission scores here because the max\n",
    "                # does not depend on them (we add them in below)\n",
    "                next_tag_var = forward_var + self.transitions[next_tag]\n",
    "                best_tag_id = argmax(next_tag_var)\n",
    "                bptrs_t.append(best_tag_id)\n",
    "                viterbivars_t.append(next_tag_var[0][best_tag_id].view(1))\n",
    "            # Now add in the emission scores, and assign forward_var to the set\n",
    "            # of viterbi variables we just computed\n",
    "            forward_var = (torch.cat(viterbivars_t) + feat).view(1, -1)\n",
    "            backpointers.append(bptrs_t)\n",
    "\n",
    "        # Transition to STOP_TAG\n",
    "        terminal_var = forward_var + self.transitions[self.tag_to_ix[STOP_TAG]]\n",
    "        best_tag_id = argmax(terminal_var)\n",
    "        path_score = terminal_var[0][best_tag_id]\n",
    "\n",
    "        # Follow the back pointers to decode the best path.\n",
    "        best_path = [best_tag_id]\n",
    "        for bptrs_t in reversed(backpointers):\n",
    "            best_tag_id = bptrs_t[best_tag_id]\n",
    "            best_path.append(best_tag_id)\n",
    "        # Pop off the start tag (we dont want to return that to the caller)\n",
    "        start = best_path.pop()\n",
    "        assert start == self.tag_to_ix[START_TAG]  # Sanity check\n",
    "        best_path.reverse()\n",
    "        return path_score, best_path\n",
    "\n",
    "    def neg_log_likelihood(self, sentence, tags):\n",
    "        feats = self._get_lstm_features(sentence)\n",
    "        forward_score = self._forward_alg(feats)\n",
    "        gold_score = self._score_sentence(feats, tags)\n",
    "        return forward_score - gold_score\n",
    "\n",
    "    def forward(self, sentence):  # dont confuse this with _forward_alg above.\n",
    "        # Get the emission scores from the BiLSTM\n",
    "        lstm_feats = self._get_lstm_features(sentence)\n",
    "\n",
    "        # Find the best path, given the features.\n",
    "        score, tag_seq = self._viterbi_decode(lstm_feats)\n",
    "        return score, tag_seq"
   ]
  }
 ],
 "metadata": {
  "kernelspec": {
   "display_name": "Python 3",
   "language": "python",
   "name": "python3"
  },
  "language_info": {
   "codemirror_mode": {
    "name": "ipython",
    "version": 3
   },
   "file_extension": ".py",
   "mimetype": "text/x-python",
   "name": "python",
   "nbconvert_exporter": "python",
   "pygments_lexer": "ipython3",
   "version": "3.6.3"
  }
 },
 "nbformat": 4,
 "nbformat_minor": 2
}
